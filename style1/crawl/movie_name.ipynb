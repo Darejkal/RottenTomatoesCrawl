{
 "cells": [
  {
   "cell_type": "code",
   "execution_count": 35,
   "metadata": {},
   "outputs": [],
   "source": [
    "import matplotlib.pyplot as plt\n",
    "import seaborn as sns\n",
    "import pandas as pd\n",
    "import re\n",
    "from unidecode import unidecode"
   ]
  },
  {
   "cell_type": "code",
   "execution_count": 36,
   "metadata": {},
   "outputs": [],
   "source": [
    "with open(\"movie_name\") as f:\n",
    "    movies=[line[:-1] for line in f]\n",
    "movies=list(set(movies))"
   ]
  },
  {
   "cell_type": "code",
   "execution_count": 37,
   "metadata": {},
   "outputs": [],
   "source": [
    "characters={}\n",
    "for m in movies:\n",
    "    for c in m:\n",
    "        if c in characters:\n",
    "            characters[c]+=1\n",
    "        else:\n",
    "            characters[c]=1"
   ]
  },
  {
   "cell_type": "code",
   "execution_count": 38,
   "metadata": {},
   "outputs": [
    {
     "name": "stdout",
     "output_type": "stream",
     "text": [
      "[':', ',', \"'\", '!', '.', '-', '(', ')', '–', '&', '$', '?', '/', '⁄', '’', '%', '@', '*', '+', '#', '…', ';']\n"
     ]
    },
    {
     "data": {
      "image/png": "[encoded data removed]",
      "text/plain": [
       "<Figure size 640x480 with 1 Axes>"
      ]
     },
     "metadata": {},
     "output_type": "display_data"
    }
   ],
   "source": [
    "movie_char_df=pd.DataFrame(list(characters.items()),columns=[\"keys\",\"counts\"])\n",
    "df_view = movie_char_df.copy()\n",
    "df_view=df_view[df_view[\"keys\"].str.match(\"[^\\w\\d ]+\")]\n",
    "print(df_view[\"keys\"].to_list())\n",
    "df_view.loc[df_view['counts'] < 100, 'keys'] = 'others'\n",
    "df_view = df_view.groupby('keys')['counts'].sum().reset_index()\n",
    "df_view[\"keys\"]=df_view[\"keys\"].apply(lambda x:x.replace(\" \",\"<space>\"))\n",
    "fig = plt.pie(df_view[\"counts\"], labels=df_view[\"keys\"], autopct='%.0f%%') "
   ]
  },
  {
   "cell_type": "code",
   "execution_count": 39,
   "metadata": {},
   "outputs": [
    {
     "name": "stdout",
     "output_type": "stream",
     "text": [
      "Number of movie with Roman number 158\n",
      "Percentage of movie with Roman number 1.5966046887631364 %\n"
     ]
    }
   ],
   "source": [
    "def convert_roman_numerals(text):\n",
    "    roman_numerals = {\n",
    "        'I': 1,\n",
    "        'V': 5,\n",
    "        'X': 10,\n",
    "        'L': 50,\n",
    "        'C': 100,\n",
    "        'D': 500,\n",
    "        'M': 1000,\n",
    "    }\n",
    "    def roman_to_int(roman_string):\n",
    "        n = 0\n",
    "        prev = 0\n",
    "        for char in roman_string:\n",
    "            current = roman_numerals[char]\n",
    "            if current > prev:\n",
    "                n -= prev\n",
    "            n += current\n",
    "            prev = current\n",
    "        return str(n)  # Return integer as a string\n",
    "\n",
    "    def replace_roman_numerals(match):\n",
    "        roman_numeral = match.group()\n",
    "        integer = roman_to_int(roman_numeral)\n",
    "        return integer\n",
    "\n",
    "    pattern = r'\\b(?!LLC)(?=[MDCLXVI]+\\b)M{0,4}(CM|CD|D?C{0,3})(XC|XL|L?X{0,3})(IX|IV|V?I{0,3})\\b'\n",
    "    new_text = re.sub(pattern, replace_roman_numerals, text)\n",
    "    return new_text\n",
    "\n",
    "pattern = re.compile(r'\\b(?!LLC)(?=[MDCLXVI]+\\b)M{0,4}(CM|CD|D?C{0,3})(XC|XL|L?X{0,3})(IX|IV|V?I{0,3})\\b')\n",
    "converted=[]\n",
    "for m in movies:\n",
    "    if pattern.findall(m[1:]):\n",
    "        converted.append(convert_roman_numerals(m))\n",
    "movies.extend(converted)\n",
    "print(\"Number of movie with Roman number\",len(converted))\n",
    "print(\"Percentage of movie with Roman number\",len(converted)/len(movies)*100,\"%\")"
   ]
  },
  {
   "cell_type": "code",
   "execution_count": 40,
   "metadata": {},
   "outputs": [
    {
     "ename": "",
     "evalue": "",
     "output_type": "error",
     "traceback": [
      "\u001b[1;31mThe Kernel crashed while executing code in the the current cell or a previous cell. Please review the code in the cell(s) to identify a possible cause of the failure. Click <a href='https://aka.ms/vscodeJupyterKernelCrash'>here</a> for more info. View Jupyter <a href='command:jupyter.viewOutput'>log</a> for further details."
     ]
    }
   ],
   "source": [
    "pattern=re.compile(\"[^\\w\\d]+\")\n",
    "with open(\"movie_name_filtered\",\"a\") as f:\n",
    "    for i,text in enumerate(movies):\n",
    "        text=pattern.sub(\"\",text.lower().replace(\" \",\"_\").replace(\"&\",\"and\"))\n",
    "        text=unidecode(text)\n",
    "        f.write(text)\n",
    "        f.write(\"\\n\")"
   ]
  }
 ],
 "metadata": {
  "kernelspec": {
   "display_name": "venv",
   "language": "python",
   "name": "python3"
  },
  "language_info": {
   "codemirror_mode": {
    "name": "ipython",
    "version": 3
   },
   "file_extension": ".py",
   "mimetype": "text/x-python",
   "name": "python",
   "nbconvert_exporter": "python",
   "pygments_lexer": "ipython3",
   "version": "3.11.2"
  }
 },
 "nbformat": 4,
 "nbformat_minor": 2
}
